{
  "nbformat": 4,
  "nbformat_minor": 0,
  "metadata": {
    "colab": {
      "provenance": []
    },
    "kernelspec": {
      "name": "python3",
      "display_name": "Python 3"
    },
    "language_info": {
      "name": "python"
    }
  },
  "cells": [
    {
      "cell_type": "code",
      "execution_count": 1,
      "metadata": {
        "colab": {
          "base_uri": "https://localhost:8080/"
        },
        "id": "-Rkj-znn7xJu",
        "outputId": "bb260604-28aa-48f5-852a-aa36edd8610c"
      },
      "outputs": [
        {
          "output_type": "stream",
          "name": "stdout",
          "text": [
            "Masukkan angka untuk menghitung faktorial: 5\n",
            "Faktorial dari 5 adalah: 120\n"
          ]
        }
      ],
      "source": [
        "def faktorial(n):\n",
        "    # Kasus dasar\n",
        "    if n == 0:\n",
        "        return 1\n",
        "    else:\n",
        "        # Rekursi\n",
        "        return n * faktorial(n - 1)\n",
        "\n",
        "# Meminta input dari pengguna\n",
        "angka = int(input(\"Masukkan angka untuk menghitung faktorial: \"))\n",
        "\n",
        "# Memanggil fungsi dan menampilkan hasil\n",
        "hasil = faktorial(angka)\n",
        "print(f\"Faktorial dari {angka} adalah: {hasil}\")\n"
      ]
    }
  ]
}