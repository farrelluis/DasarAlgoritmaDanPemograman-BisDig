{
  "nbformat": 4,
  "nbformat_minor": 0,
  "metadata": {
    "colab": {
      "provenance": []
    },
    "kernelspec": {
      "name": "python3",
      "display_name": "Python 3"
    },
    "language_info": {
      "name": "python"
    }
  },
  "cells": [
    {
      "cell_type": "code",
      "execution_count": 2,
      "metadata": {
        "colab": {
          "base_uri": "https://localhost:8080/"
        },
        "id": "-bXUIFGn-dVJ",
        "outputId": "b76cbf50-f720-4f16-86ed-75bc21ff87c7"
      },
      "outputs": [
        {
          "output_type": "stream",
          "name": "stdout",
          "text": [
            "Masukkan nilai mata pelajaran 1: 80\n",
            "Masukkan nilai mata pelajaran 2: 90\n",
            "Masukkan nilai mata pelajaran 3: 75\n",
            "Rata-rata nilai: 81.67\n",
            "Status kelulusan: Lulus\n"
          ]
        }
      ],
      "source": [
        "# Meminta input nilai dari 3 mata pelajaran\n",
        "nilai_mata_pelajaran1 = float(input(\"Masukkan nilai mata pelajaran 1: \"))\n",
        "nilai_mata_pelajaran2 = float(input(\"Masukkan nilai mata pelajaran 2: \"))\n",
        "nilai_mata_pelajaran3 = float(input(\"Masukkan nilai mata pelajaran 3: \"))\n",
        "\n",
        "# Menghitung rata-rata nilai\n",
        "rata_rata = (nilai_mata_pelajaran1 + nilai_mata_pelajaran2 + nilai_mata_pelajaran3) / 3\n",
        "\n",
        "# Menentukan status kelulusan\n",
        "if rata_rata >= 75:\n",
        "    status_kelulusan = \"Lulus\"\n",
        "else:\n",
        "    status_kelulusan = \"Tidak Lulus\"\n",
        "\n",
        "# Menampilkan hasil\n",
        "print(f\"Rata-rata nilai: {rata_rata:.2f}\")\n",
        "print(f\"Status kelulusan: {status_kelulusan}\")\n"
      ]
    }
  ]
}