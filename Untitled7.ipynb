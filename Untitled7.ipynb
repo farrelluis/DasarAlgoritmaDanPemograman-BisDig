{
  "nbformat": 4,
  "nbformat_minor": 0,
  "metadata": {
    "colab": {
      "provenance": []
    },
    "kernelspec": {
      "name": "python3",
      "display_name": "Python 3"
    },
    "language_info": {
      "name": "python"
    }
  },
  "cells": [
    {
      "cell_type": "code",
      "execution_count": 1,
      "metadata": {
        "colab": {
          "base_uri": "https://localhost:8080/"
        },
        "id": "0ZSFvuW3BihI",
        "outputId": "ad86f3f0-f3ec-4632-b43a-312ac36b03c5"
      },
      "outputs": [
        {
          "output_type": "stream",
          "name": "stdout",
          "text": [
            "Masukkan nilai siswa ke-1: 75\n",
            "Masukkan nilai siswa ke-2: 87\n",
            "Masukkan nilai siswa ke-3: 90\n",
            "Masukkan nilai siswa ke-4: 97\n",
            "Masukkan nilai siswa ke-5: 75\n",
            "Nilai tertinggi adalah 97.0 yang diperoleh siswa ke-4\n"
          ]
        }
      ],
      "source": [
        "# Inisialisasi list kosong untuk menyimpan nilai siswa\n",
        "nilai_siswa = []\n",
        "\n",
        "# Input nilai 5 siswa menggunakan perulangan\n",
        "for i in range(5):\n",
        "    nilai = float(input(f\"Masukkan nilai siswa ke-{i+1}: \"))\n",
        "    nilai_siswa.append(nilai)\n",
        "\n",
        "# Menemukan nilai tertinggi dan indeks siswa yang mendapatkannya\n",
        "nilai_tertinggi = nilai_siswa[0]\n",
        "index_tertinggi = 0\n",
        "\n",
        "for i in range(1, 5):\n",
        "    if nilai_siswa[i] > nilai_tertinggi:\n",
        "        nilai_tertinggi = nilai_siswa[i]\n",
        "        index_tertinggi = i\n",
        "\n",
        "# Menampilkan hasil\n",
        "print(f\"Nilai tertinggi adalah {nilai_tertinggi} yang diperoleh siswa ke-{index_tertinggi + 1}\")\n"
      ]
    }
  ]
}