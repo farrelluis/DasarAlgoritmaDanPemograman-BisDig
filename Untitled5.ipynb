{
  "nbformat": 4,
  "nbformat_minor": 0,
  "metadata": {
    "colab": {
      "provenance": []
    },
    "kernelspec": {
      "name": "python3",
      "display_name": "Python 3"
    },
    "language_info": {
      "name": "python"
    }
  },
  "cells": [
    {
      "cell_type": "code",
      "execution_count": 1,
      "metadata": {
        "colab": {
          "base_uri": "https://localhost:8080/"
        },
        "id": "K7DpNCy0974q",
        "outputId": "9506a5fa-c632-4373-81d3-cece5f8f3415"
      },
      "outputs": [
        {
          "output_type": "stream",
          "name": "stdout",
          "text": [
            "Masukkan total belanja Anda (dalam Rupiah): 700000\n",
            "Total belanja: Rp700,000.00\n",
            "Diskon yang diberikan: Rp70,000.00\n",
            "Total yang harus dibayar: Rp630,000.00\n"
          ]
        }
      ],
      "source": [
        "# Meminta input total belanja dari pelanggan\n",
        "total_belanja = float(input(\"Masukkan total belanja Anda (dalam Rupiah): \"))\n",
        "\n",
        "# Cek apakah total belanja lebih dari 500.000 untuk pemberian diskon\n",
        "if total_belanja > 500000:\n",
        "    diskon = 0.1 * total_belanja\n",
        "else:\n",
        "    diskon = 0\n",
        "\n",
        "# Hitung total yang harus dibayar setelah diskon\n",
        "total_bayar = total_belanja - diskon\n",
        "\n",
        "# Tampilkan hasil\n",
        "print(f\"Total belanja: Rp{total_belanja:,.2f}\")\n",
        "print(f\"Diskon yang diberikan: Rp{diskon:,.2f}\")\n",
        "print(f\"Total yang harus dibayar: Rp{total_bayar:,.2f}\")\n",
        "\n"
      ]
    }
  ]
}