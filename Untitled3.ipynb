{
  "nbformat": 4,
  "nbformat_minor": 0,
  "metadata": {
    "colab": {
      "provenance": []
    },
    "kernelspec": {
      "name": "python3",
      "display_name": "Python 3"
    },
    "language_info": {
      "name": "python"
    }
  },
  "cells": [
    {
      "cell_type": "code",
      "execution_count": 1,
      "metadata": {
        "colab": {
          "base_uri": "https://localhost:8080/"
        },
        "id": "JKBwBuDF4Ihc",
        "outputId": "33e4c622-37ea-4e06-fc87-d4f7a32998d9"
      },
      "outputs": [
        {
          "output_type": "stream",
          "name": "stdout",
          "text": [
            "Masukkan harga barang 1: 15000\n",
            "Masukkan harga barang 2: 20000\n",
            "Masukkan harga barang 3: 10000\n",
            "Total pembayaran adalah: 45000.0\n"
          ]
        }
      ],
      "source": [
        "# Langkah 1: Inisialisasi\n",
        "harga_barang1 = 0\n",
        "harga_barang2 = 0\n",
        "harga_barang3 = 0\n",
        "\n",
        "# Langkah 2: Input Harga\n",
        "harga_barang1 = float(input(\"Masukkan harga barang 1: \"))\n",
        "harga_barang2 = float(input(\"Masukkan harga barang 2: \"))\n",
        "harga_barang3 = float(input(\"Masukkan harga barang 3: \"))\n",
        "\n",
        "# Langkah 3: Hitung Total\n",
        "total_pembayaran = harga_barang1 + harga_barang2 + harga_barang3\n",
        "\n",
        "# Langkah 4: Tampilkan Hasil\n",
        "print(f\"Total pembayaran adalah: {total_pembayaran}\")\n"
      ]
    }
  ]
}